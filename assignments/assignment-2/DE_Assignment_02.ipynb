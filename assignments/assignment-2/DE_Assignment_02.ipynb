{
  "nbformat": 4,
  "nbformat_minor": 0,
  "metadata": {
    "colab": {
      "provenance": [],
      "gpuType": "T4"
    },
    "kernelspec": {
      "name": "python3",
      "display_name": "Python 3"
    },
    "language_info": {
      "name": "python"
    },
    "accelerator": "GPU"
  },
  "cells": [
    {
      "cell_type": "code",
      "source": [
        "import pandas as pd\n",
        "import random\n",
        "import os\n",
        "from datetime import datetime, timedelta\n",
        "\n",
        "# Create the raw_data directory if it doesn't exist\n",
        "os.makedirs(\"raw_data\", exist_ok=True)\n",
        "\n",
        "# Define possible values\n",
        "actions = [\"play\", \"pause\", \"skip\", \"forward\"]\n",
        "devices = [\"mobile\", \"desktop\", \"tablet\"]\n",
        "regions = [\"US\", \"EU\", \"APAC\"]\n",
        "\n",
        "start_date = datetime(2023, 9, 1)\n",
        "days = 7\n",
        "user_ids = range(100, 201)\n",
        "content_ids = random.sample(range(1000, 1011), 10)  # Fixed unique content_ids\n",
        "\n",
        "# Generate Content Metadata (ensuring overlapping content_id)\n",
        "titles = [\"Summer Vibes\", \"Rock Anthem\", \"Daily News\", \"Jazz Nights\", \"Tech Podcast\",\n",
        "          \"Hip Hop Beats\", \"Indie Wave\", \"Classical Hits\", \"Electronic Pulse\", \"Retro Pop\"]\n",
        "categories = [\"Pop\", \"Rock\", \"Podcast\", \"News\", \"Jazz\", \"Hip-Hop\", \"Classical\", \"Indie\", \"Electronic\", \"Retro\"]\n",
        "artists = [\"DJ Alpha\", \"The Beats\", \"News Daily\", \"Smooth Jazz\", \"Tech Guru\",\n",
        "           \"MC Flow\", \"Indie Star\", \"Orchestra Live\", \"Electro King\", \"Vintage Crew\"]\n",
        "\n",
        "metadata = []\n",
        "for content_id in content_ids:\n",
        "    title = random.choice(titles)\n",
        "    category = random.choice(categories)\n",
        "    length = random.randint(120, 360)  # Duration in seconds\n",
        "    artist = random.choice(artists)\n",
        "    metadata.append([content_id, title, category, length, artist])\n",
        "\n",
        "metadata_df = pd.DataFrame(metadata, columns=[\"content_id\", \"title\", \"category\", \"length\", \"artist\"])\n",
        "metadata_df.to_csv(\"raw_data/content_metadata.csv\", index=False)\n",
        "\n",
        "# Generate User Activity Logs per day\n",
        "for i in range(days):\n",
        "    date = start_date + timedelta(days=i)\n",
        "    date_str = date.strftime(\"%Y-%m-%d\")\n",
        "    data = []\n",
        "\n",
        "    for _ in range(random.randint(20, 30)):\n",
        "        user_id = random.choice(user_ids)\n",
        "        content_id = random.choice(content_ids)  # Ensure only selected content IDs are used\n",
        "        action = random.choice(actions)\n",
        "        timestamp = date + timedelta(hours=random.randint(0, 23), minutes=random.randint(0, 59), seconds=random.randint(0, 59))\n",
        "        device = random.choice(devices)\n",
        "        region = random.choice(regions)\n",
        "        session_id = f\"sess-{random.randint(1000, 9999)}-{random.choice('ABCDEFGH')}\"\n",
        "\n",
        "        data.append([user_id, content_id, action, timestamp.strftime(\"%Y-%m-%d %H:%M:%S\"), device, region, session_id])\n",
        "\n",
        "    df = pd.DataFrame(data, columns=[\"user_id\", \"content_id\", \"action\", \"timestamp\", \"device\", \"region\", \"session_id\"])\n",
        "    df.to_csv(f\"raw_data/user_logs_{date_str}.csv\", index=False)\n",
        "\n",
        "# Zip the raw_data folder for downloading\n",
        "from shutil import make_archive\n",
        "import shutil\n",
        "\n",
        "make_archive(\"user_data\", 'zip', \"raw_data\")\n",
        "shutil.move(\"user_data.zip\", \"./user_data.zip\")\n",
        "\n",
        "print(\"Data generation complete! Download 'user_data.zip' to access CSV files.\")"
      ],
      "metadata": {
        "colab": {
          "base_uri": "https://localhost:8080/"
        },
        "id": "rAbKqgyhIvOa",
        "outputId": "0b599b03-7d4c-4398-d349-f311d16cf3d2"
      },
      "execution_count": null,
      "outputs": [
        {
          "output_type": "stream",
          "name": "stdout",
          "text": [
            "Data generation complete! Download 'user_data.zip' to access CSV files.\n"
          ]
        }
      ]
    },
    {
      "cell_type": "code",
      "source": [
        "from google.colab import files\n",
        "\n",
        "files.download(\"user_data.zip\")"
      ],
      "metadata": {
        "colab": {
          "base_uri": "https://localhost:8080/",
          "height": 17
        },
        "id": "jFvefvQ_I1bJ",
        "outputId": "342af6c1-c211-42be-e84a-f50cd3bb8cc3"
      },
      "execution_count": null,
      "outputs": [
        {
          "output_type": "display_data",
          "data": {
            "text/plain": [
              "<IPython.core.display.Javascript object>"
            ],
            "application/javascript": [
              "\n",
              "    async function download(id, filename, size) {\n",
              "      if (!google.colab.kernel.accessAllowed) {\n",
              "        return;\n",
              "      }\n",
              "      const div = document.createElement('div');\n",
              "      const label = document.createElement('label');\n",
              "      label.textContent = `Downloading \"${filename}\": `;\n",
              "      div.appendChild(label);\n",
              "      const progress = document.createElement('progress');\n",
              "      progress.max = size;\n",
              "      div.appendChild(progress);\n",
              "      document.body.appendChild(div);\n",
              "\n",
              "      const buffers = [];\n",
              "      let downloaded = 0;\n",
              "\n",
              "      const channel = await google.colab.kernel.comms.open(id);\n",
              "      // Send a message to notify the kernel that we're ready.\n",
              "      channel.send({})\n",
              "\n",
              "      for await (const message of channel.messages) {\n",
              "        // Send a message to notify the kernel that we're ready.\n",
              "        channel.send({})\n",
              "        if (message.buffers) {\n",
              "          for (const buffer of message.buffers) {\n",
              "            buffers.push(buffer);\n",
              "            downloaded += buffer.byteLength;\n",
              "            progress.value = downloaded;\n",
              "          }\n",
              "        }\n",
              "      }\n",
              "      const blob = new Blob(buffers, {type: 'application/binary'});\n",
              "      const a = document.createElement('a');\n",
              "      a.href = window.URL.createObjectURL(blob);\n",
              "      a.download = filename;\n",
              "      div.appendChild(a);\n",
              "      a.click();\n",
              "      div.remove();\n",
              "    }\n",
              "  "
            ]
          },
          "metadata": {}
        },
        {
          "output_type": "display_data",
          "data": {
            "text/plain": [
              "<IPython.core.display.Javascript object>"
            ],
            "application/javascript": [
              "download(\"download_b897bdba-1102-4f5e-953c-a9eefbe722d5\", \"user_data.zip\", 8923)"
            ]
          },
          "metadata": {}
        }
      ]
    }
  ]
}